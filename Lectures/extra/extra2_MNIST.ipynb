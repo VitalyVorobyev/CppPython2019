{
 "cells": [
  {
   "cell_type": "code",
   "execution_count": 1,
   "metadata": {
    "scrolled": true
   },
   "outputs": [
    {
     "data": {
      "text/plain": [
       "'2.0.0'"
      ]
     },
     "execution_count": 1,
     "metadata": {},
     "output_type": "execute_result"
    }
   ],
   "source": [
    "import numpy as np\n",
    "import matplotlib.pyplot as plt\n",
    "import matplotlib.gridspec as gridspec\n",
    "import tensorflow as tf\n",
    "%matplotlib inline\n",
    "tf.__version__"
   ]
  },
  {
   "cell_type": "code",
   "execution_count": 2,
   "metadata": {},
   "outputs": [],
   "source": [
    "mnist = tf.keras.datasets.mnist"
   ]
  },
  {
   "cell_type": "code",
   "execution_count": 3,
   "metadata": {},
   "outputs": [],
   "source": [
    "# fmnist = tf.keras.datasets.fashion_mnist\n",
    "# (fx_train, fy_train), (fx_test, fy_test) = fmnist.load_data()"
   ]
  },
  {
   "cell_type": "code",
   "execution_count": 4,
   "metadata": {},
   "outputs": [],
   "source": [
    "(x_train, y_train), (x_test, y_test) = mnist.load_data()"
   ]
  },
  {
   "cell_type": "code",
   "execution_count": 5,
   "metadata": {},
   "outputs": [],
   "source": [
    "def show_random_numbers(data):\n",
    "    fig2 = plt.figure(constrained_layout=True, figsize=(12, 3))\n",
    "    cols, rows = 10, 2\n",
    "    items = data[np.random.choice(np.arange(data.shape[0]), cols*rows)]\n",
    "    spec2 = gridspec.GridSpec(ncols=cols, nrows=rows, figure=fig2)\n",
    "    for idx, d in enumerate(items):\n",
    "        ax = fig2.add_subplot(spec2[idx // cols, idx % cols])\n",
    "        plt.imshow(d)\n",
    "        plt.axis('off')"
   ]
  },
  {
   "cell_type": "code",
   "execution_count": 6,
   "metadata": {},
   "outputs": [],
   "source": [
    "def show_numbers(data):\n",
    "    fig2 = plt.figure(constrained_layout=True, figsize=(12, 3))\n",
    "    cols, rows = 10, 2\n",
    "    items = data[:cols*rows]\n",
    "    spec2 = gridspec.GridSpec(ncols=cols, nrows=rows, figure=fig2)\n",
    "    for idx, d in enumerate(items):\n",
    "        ax = fig2.add_subplot(spec2[idx // cols, idx % cols])\n",
    "        plt.imshow(d)\n",
    "        plt.axis('off')"
   ]
  },
  {
   "cell_type": "code",
   "execution_count": 7,
   "metadata": {},
   "outputs": [
    {
     "data": {
      "image/png": "[encoded data removed]",
      "text/plain": [
       "<Figure size 864x216 with 20 Axes>"
      ]
     },
     "metadata": {
      "needs_background": "light"
     },
     "output_type": "display_data"
    }
   ],
   "source": [
    "show_random_numbers(x_train)"
   ]
  },
  {
   "cell_type": "code",
   "execution_count": 8,
   "metadata": {},
   "outputs": [],
   "source": [
    "from nnbinary import NNBinary"
   ]
  },
  {
   "cell_type": "code",
   "execution_count": 9,
   "metadata": {},
   "outputs": [],
   "source": [
    "def acc(model, x, y):\n",
    "    return np.sum(model.predict(x) == y) / y.shape[0]"
   ]
  },
  {
   "cell_type": "code",
   "execution_count": 10,
   "metadata": {},
   "outputs": [],
   "source": [
    "def accTotal(f, x, y):\n",
    "    return np.sum(f(x) == y) / y.shape[0]"
   ]
  },
  {
   "cell_type": "code",
   "execution_count": 11,
   "metadata": {},
   "outputs": [],
   "source": [
    "def train_one_vs_rest(x, trg, r, eta=0.0001, eps=1.e-6, seed=None):\n",
    "    models = [NNBinary(r) for _ in range(10)]\n",
    "    for digi, model in enumerate(models):\n",
    "        print('learn digit {} ...'.format(digi))\n",
    "        y = np.array(trg == digi, dtype=int).reshape(-1, 1)\n",
    "        while not model.train(x, y, eta=eta, batch=100, eps=eps):\n",
    "            pass\n",
    "        print('Acc reached: {:.2f}'.format(acc(model, x, y)))\n",
    "    return (lambda x: np.argmax([m.forward(x)[-1] for m in models], axis=0), models)"
   ]
  },
  {
   "cell_type": "code",
   "execution_count": 12,
   "metadata": {},
   "outputs": [],
   "source": [
    "N = x_train.shape[0]\n",
    "x0_train = x_train[:N].reshape(N, -1) / 255.\n",
    "y0_train = y_train[:N].reshape(N, 1)\n",
    "x0_test = x_test.reshape(x_test.shape[0], -1) / 255.\n",
    "y0_test = y_test.reshape(y_test.shape[0], 1)"
   ]
  },
  {
   "cell_type": "code",
   "execution_count": 13,
   "metadata": {},
   "outputs": [
    {
     "data": {
      "text/plain": [
       "(60000, 784)"
      ]
     },
     "execution_count": 13,
     "metadata": {},
     "output_type": "execute_result"
    }
   ],
   "source": [
    "x0_train.shape"
   ]
  },
  {
   "cell_type": "code",
   "execution_count": 14,
   "metadata": {},
   "outputs": [],
   "source": [
    "def save_model(fname, models):\n",
    "    for digi, model in enumerate(models):\n",
    "        model.toFile(fname + str(digi))\n",
    "\n",
    "def load_model(fname):\n",
    "    models = [NNBinary() for _ in range(10)]\n",
    "    for digi, model in enumerate(models):\n",
    "        model.fromFile(fname + str(digi) + '.npy')\n",
    "    return (lambda x: np.argmax([m.forward(x)[-1] for m in models], axis=0), models)"
   ]
  },
  {
   "cell_type": "code",
   "execution_count": 15,
   "metadata": {},
   "outputs": [],
   "source": [
    "fname = 'data/binary60k'"
   ]
  },
  {
   "cell_type": "code",
   "execution_count": 16,
   "metadata": {},
   "outputs": [],
   "source": [
    "# %%time\n",
    "# f, models = train_one_vs_rest(x0_train, y0_train, r=[32], eps=1.e-4)\n",
    "# save_model(fname, models)"
   ]
  },
  {
   "cell_type": "code",
   "execution_count": 17,
   "metadata": {},
   "outputs": [],
   "source": [
    "f, models = load_model(fname)"
   ]
  },
  {
   "cell_type": "code",
   "execution_count": 18,
   "metadata": {},
   "outputs": [
    {
     "data": {
      "text/plain": [
       "array([[5, 0, 4, 1, 9, 2, 1, 3, 1, 4],\n",
       "       [3, 5, 3, 6, 1, 7, 2, 8, 6, 9]])"
      ]
     },
     "execution_count": 18,
     "metadata": {},
     "output_type": "execute_result"
    }
   ],
   "source": [
    "f(x0_train[:20]).reshape(2,-1)"
   ]
  },
  {
   "cell_type": "code",
   "execution_count": 19,
   "metadata": {},
   "outputs": [
    {
     "data": {
      "image/png": "[encoded data removed]",
      "text/plain": [
       "<Figure size 864x216 with 20 Axes>"
      ]
     },
     "metadata": {
      "needs_background": "light"
     },
     "output_type": "display_data"
    }
   ],
   "source": [
    "show_numbers(x_train)"
   ]
  },
  {
   "cell_type": "code",
   "execution_count": 20,
   "metadata": {},
   "outputs": [
    {
     "data": {
      "text/plain": [
       "array([[7, 2, 1, 0, 4, 1, 4, 9, 6, 9],\n",
       "       [0, 6, 9, 0, 1, 5, 9, 7, 8, 4]])"
      ]
     },
     "execution_count": 20,
     "metadata": {},
     "output_type": "execute_result"
    }
   ],
   "source": [
    "f(x0_test[:20]).reshape(2,-1)"
   ]
  },
  {
   "cell_type": "code",
   "execution_count": 21,
   "metadata": {},
   "outputs": [
    {
     "data": {
      "image/png": "[encoded data removed]",
      "text/plain": [
       "<Figure size 864x216 with 20 Axes>"
      ]
     },
     "metadata": {
      "needs_background": "light"
     },
     "output_type": "display_data"
    }
   ],
   "source": [
    "show_numbers(x_test)"
   ]
  },
  {
   "cell_type": "code",
   "execution_count": 22,
   "metadata": {},
   "outputs": [
    {
     "data": {
      "text/plain": [
       "0.9988333333333334"
      ]
     },
     "execution_count": 22,
     "metadata": {},
     "output_type": "execute_result"
    }
   ],
   "source": [
    "accTotal(f, x0_train, y0_train)"
   ]
  },
  {
   "cell_type": "code",
   "execution_count": 23,
   "metadata": {},
   "outputs": [
    {
     "data": {
      "text/plain": [
       "0.9757"
      ]
     },
     "execution_count": 23,
     "metadata": {},
     "output_type": "execute_result"
    }
   ],
   "source": [
    "accTotal(f, x0_test, y0_test)"
   ]
  },
  {
   "cell_type": "markdown",
   "metadata": {},
   "source": [
    "# Tensorflow: Keras sequential dense"
   ]
  },
  {
   "cell_type": "code",
   "execution_count": 24,
   "metadata": {},
   "outputs": [],
   "source": [
    "(x_train, y_train), (x_test, y_test) = mnist.load_data()\n",
    "xtf_train, xtf_test = x_train / 255., x_test / 255."
   ]
  },
  {
   "cell_type": "code",
   "execution_count": 25,
   "metadata": {},
   "outputs": [],
   "source": [
    "model = tf.keras.models.Sequential([\n",
    "    tf.keras.layers.Flatten(),\n",
    "    tf.keras.layers.Dense(128, activation='relu'),\n",
    "    tf.keras.layers.Dense(10, activation='softmax')\n",
    "])\n",
    "model.compile(\n",
    "    optimizer='adam',\n",
    "    loss='sparse_categorical_crossentropy',\n",
    "    metrics=['accuracy']\n",
    ")"
   ]
  },
  {
   "cell_type": "code",
   "execution_count": 26,
   "metadata": {},
   "outputs": [],
   "source": [
    "class myCallback(tf.keras.callbacks.Callback):\n",
    "    def on_epoch_end(self, epoch, logs={}):\n",
    "        if logs.get('accuracy') > 0.995:\n",
    "            print('\\nReached 99% accuracy. Finishing training')\n",
    "            self.model.stop_training = True"
   ]
  },
  {
   "cell_type": "code",
   "execution_count": 27,
   "metadata": {},
   "outputs": [
    {
     "name": "stdout",
     "output_type": "stream",
     "text": [
      "Train on 60000 samples, validate on 10000 samples\n",
      "Epoch 1/20\n",
      "WARNING:tensorflow:Entity <function Function._initialize_uninitialized_variables.<locals>.initialize_variables at 0x7f230b8d1050> could not be transformed and will be executed as-is. Please report this to the AutoGraph team. When filing the bug, set the verbosity to 10 (on Linux, `export AUTOGRAPH_VERBOSITY=10`) and attach the full output. Cause: module 'gast' has no attribute 'Num'\n",
      "WARNING: Entity <function Function._initialize_uninitialized_variables.<locals>.initialize_variables at 0x7f230b8d1050> could not be transformed and will be executed as-is. Please report this to the AutoGraph team. When filing the bug, set the verbosity to 10 (on Linux, `export AUTOGRAPH_VERBOSITY=10`) and attach the full output. Cause: module 'gast' has no attribute 'Num'\n",
      "60000/60000 [==============================] - 3s 50us/sample - loss: 0.3402 - accuracy: 0.9079 - val_loss: 0.1843 - val_accuracy: 0.9475\n",
      "Epoch 2/20\n",
      "60000/60000 [==============================] - 2s 33us/sample - loss: 0.1570 - accuracy: 0.9551 - val_loss: 0.1360 - val_accuracy: 0.9594\n",
      "Epoch 3/20\n",
      "60000/60000 [==============================] - 2s 35us/sample - loss: 0.1126 - accuracy: 0.9676 - val_loss: 0.1046 - val_accuracy: 0.9674\n",
      "Epoch 4/20\n",
      "60000/60000 [==============================] - 2s 36us/sample - loss: 0.0865 - accuracy: 0.9744 - val_loss: 0.0932 - val_accuracy: 0.9720\n",
      "Epoch 5/20\n",
      "60000/60000 [==============================] - 2s 40us/sample - loss: 0.0695 - accuracy: 0.9798 - val_loss: 0.0837 - val_accuracy: 0.9751\n",
      "Epoch 6/20\n",
      "60000/60000 [==============================] - 2s 41us/sample - loss: 0.0578 - accuracy: 0.9833 - val_loss: 0.0800 - val_accuracy: 0.9766\n",
      "Epoch 7/20\n",
      "60000/60000 [==============================] - 2s 39us/sample - loss: 0.0475 - accuracy: 0.9863 - val_loss: 0.0780 - val_accuracy: 0.9765\n",
      "Epoch 8/20\n",
      "60000/60000 [==============================] - 2s 39us/sample - loss: 0.0399 - accuracy: 0.9884 - val_loss: 0.0800 - val_accuracy: 0.9751\n",
      "Epoch 9/20\n",
      "60000/60000 [==============================] - 2s 35us/sample - loss: 0.0339 - accuracy: 0.9906 - val_loss: 0.0751 - val_accuracy: 0.9780\n",
      "Epoch 10/20\n",
      "60000/60000 [==============================] - 2s 35us/sample - loss: 0.0283 - accuracy: 0.9920 - val_loss: 0.0714 - val_accuracy: 0.9789\n",
      "Epoch 11/20\n",
      "60000/60000 [==============================] - 2s 35us/sample - loss: 0.0242 - accuracy: 0.9937 - val_loss: 0.0751 - val_accuracy: 0.9768\n",
      "Epoch 12/20\n",
      "59600/60000 [============================>.] - ETA: 0s - loss: 0.0191 - accuracy: 0.9952\n",
      "Reached 99% accuracy. Finishing training\n",
      "60000/60000 [==============================] - 3s 47us/sample - loss: 0.0192 - accuracy: 0.9952 - val_loss: 0.0790 - val_accuracy: 0.9764\n"
     ]
    },
    {
     "data": {
      "text/plain": [
       "<tensorflow.python.keras.callbacks.History at 0x7f230868fe50>"
      ]
     },
     "execution_count": 27,
     "metadata": {},
     "output_type": "execute_result"
    }
   ],
   "source": [
    "model.fit(xtf_train, y_train,\n",
    "          epochs=20, batch_size=100,\n",
    "          callbacks=[myCallback()],\n",
    "          validation_data=(xtf_test, y_test)\n",
    ")"
   ]
  },
  {
   "cell_type": "code",
   "execution_count": 28,
   "metadata": {},
   "outputs": [
    {
     "name": "stdout",
     "output_type": "stream",
     "text": [
      "Model: \"sequential\"\n",
      "_________________________________________________________________\n",
      "Layer (type)                 Output Shape              Param #   \n",
      "=================================================================\n",
      "flatten (Flatten)            multiple                  0         \n",
      "_________________________________________________________________\n",
      "dense (Dense)                multiple                  100480    \n",
      "_________________________________________________________________\n",
      "dense_1 (Dense)              multiple                  1290      \n",
      "=================================================================\n",
      "Total params: 101,770\n",
      "Trainable params: 101,770\n",
      "Non-trainable params: 0\n",
      "_________________________________________________________________\n"
     ]
    }
   ],
   "source": [
    "model.summary()"
   ]
  },
  {
   "cell_type": "code",
   "execution_count": 29,
   "metadata": {},
   "outputs": [],
   "source": [
    "# with open('tf_seq.json', 'w') as json_file:\n",
    "#     json_file.write(model.to_json())\n",
    "# model.save_weights('tf_seq_wgh.h5')"
   ]
  },
  {
   "cell_type": "code",
   "execution_count": 30,
   "metadata": {},
   "outputs": [],
   "source": [
    "# model = tf.keras.model_from_json('tf_seq.json')\n",
    "# model.load_wights('tf_seq_wgh.h5')"
   ]
  },
  {
   "cell_type": "code",
   "execution_count": 31,
   "metadata": {},
   "outputs": [
    {
     "data": {
      "text/plain": [
       "[0.01700055979438281, 0.9959]"
      ]
     },
     "execution_count": 31,
     "metadata": {},
     "output_type": "execute_result"
    }
   ],
   "source": [
    "# model.predict(xtf_train)\n",
    "model.evaluate(xtf_train, y_train, verbose=0)"
   ]
  },
  {
   "cell_type": "code",
   "execution_count": 32,
   "metadata": {},
   "outputs": [
    {
     "data": {
      "text/plain": [
       "[0.0790202908373205, 0.9764]"
      ]
     },
     "execution_count": 32,
     "metadata": {},
     "output_type": "execute_result"
    }
   ],
   "source": [
    "model.evaluate(xtf_test, y_test, verbose=0)"
   ]
  },
  {
   "cell_type": "markdown",
   "metadata": {},
   "source": [
    "# Tensorflow: Keras sequential convolution"
   ]
  },
  {
   "cell_type": "code",
   "execution_count": 33,
   "metadata": {},
   "outputs": [
    {
     "name": "stdout",
     "output_type": "stream",
     "text": [
      "Model: \"sequential_1\"\n",
      "_________________________________________________________________\n",
      "Layer (type)                 Output Shape              Param #   \n",
      "=================================================================\n",
      "conv2d (Conv2D)              (None, 26, 26, 16)        160       \n",
      "_________________________________________________________________\n",
      "max_pooling2d (MaxPooling2D) (None, 13, 13, 16)        0         \n",
      "_________________________________________________________________\n",
      "conv2d_1 (Conv2D)            (None, 11, 11, 32)        4640      \n",
      "_________________________________________________________________\n",
      "max_pooling2d_1 (MaxPooling2 (None, 5, 5, 32)          0         \n",
      "_________________________________________________________________\n",
      "flatten_1 (Flatten)          (None, 800)               0         \n",
      "_________________________________________________________________\n",
      "dense_2 (Dense)              (None, 32)                25632     \n",
      "_________________________________________________________________\n",
      "dense_3 (Dense)              (None, 10)                330       \n",
      "=================================================================\n",
      "Total params: 30,762\n",
      "Trainable params: 30,762\n",
      "Non-trainable params: 0\n",
      "_________________________________________________________________\n"
     ]
    }
   ],
   "source": [
    "model = tf.keras.models.Sequential([\n",
    "    tf.keras.layers.Conv2D(16, (3,3), activation='relu', input_shape=(28, 28, 1)),\n",
    "    tf.keras.layers.MaxPooling2D(2,2),\n",
    "    tf.keras.layers.Conv2D(32, (3,3), activation='relu'),\n",
    "    tf.keras.layers.MaxPooling2D(2,2),\n",
    "    tf.keras.layers.Flatten(),\n",
    "    tf.keras.layers.Dense(32, activation='relu'),\n",
    "    tf.keras.layers.Dense(10, activation='softmax')\n",
    "])\n",
    "model.compile(\n",
    "    optimizer='adam',\n",
    "    loss='sparse_categorical_crossentropy',\n",
    "    metrics=['accuracy']\n",
    ")\n",
    "model.summary()"
   ]
  },
  {
   "cell_type": "code",
   "execution_count": 34,
   "metadata": {},
   "outputs": [],
   "source": [
    "(x_train, y_train), (x_test, y_test) = mnist.load_data()\n",
    "xtf_train = x_train.reshape(-1, 28, 28, 1) / 255.\n",
    "xtf_test = x_test.reshape(-1, 28, 28, 1) / 255."
   ]
  },
  {
   "cell_type": "code",
   "execution_count": 35,
   "metadata": {},
   "outputs": [
    {
     "name": "stdout",
     "output_type": "stream",
     "text": [
      "Train on 60000 samples, validate on 10000 samples\n",
      "Epoch 1/20\n",
      "WARNING:tensorflow:Entity <function Function._initialize_uninitialized_variables.<locals>.initialize_variables at 0x7f22eb3c6ef0> could not be transformed and will be executed as-is. Please report this to the AutoGraph team. When filing the bug, set the verbosity to 10 (on Linux, `export AUTOGRAPH_VERBOSITY=10`) and attach the full output. Cause: module 'gast' has no attribute 'Num'\n",
      "WARNING: Entity <function Function._initialize_uninitialized_variables.<locals>.initialize_variables at 0x7f22eb3c6ef0> could not be transformed and will be executed as-is. Please report this to the AutoGraph team. When filing the bug, set the verbosity to 10 (on Linux, `export AUTOGRAPH_VERBOSITY=10`) and attach the full output. Cause: module 'gast' has no attribute 'Num'\n",
      "60000/60000 [==============================] - 16s 269us/sample - loss: 0.2783 - accuracy: 0.9173 - val_loss: 0.0853 - val_accuracy: 0.9730\n",
      "Epoch 2/20\n",
      "60000/60000 [==============================] - 15s 258us/sample - loss: 0.0860 - accuracy: 0.9732 - val_loss: 0.0656 - val_accuracy: 0.9786\n",
      "Epoch 3/20\n",
      "60000/60000 [==============================] - 17s 283us/sample - loss: 0.0618 - accuracy: 0.9808 - val_loss: 0.0554 - val_accuracy: 0.9828\n",
      "Epoch 4/20\n",
      "60000/60000 [==============================] - 16s 268us/sample - loss: 0.0490 - accuracy: 0.9849 - val_loss: 0.0419 - val_accuracy: 0.9855\n",
      "Epoch 5/20\n",
      "60000/60000 [==============================] - 16s 271us/sample - loss: 0.0398 - accuracy: 0.9880 - val_loss: 0.0409 - val_accuracy: 0.9871\n",
      "Epoch 6/20\n",
      "60000/60000 [==============================] - 16s 265us/sample - loss: 0.0353 - accuracy: 0.9887 - val_loss: 0.0394 - val_accuracy: 0.9868\n",
      "Epoch 7/20\n",
      "60000/60000 [==============================] - 16s 268us/sample - loss: 0.0309 - accuracy: 0.9904 - val_loss: 0.0412 - val_accuracy: 0.9859\n",
      "Epoch 8/20\n",
      "60000/60000 [==============================] - 16s 265us/sample - loss: 0.0274 - accuracy: 0.9912 - val_loss: 0.0492 - val_accuracy: 0.9847\n",
      "Epoch 9/20\n",
      "60000/60000 [==============================] - 15s 255us/sample - loss: 0.0239 - accuracy: 0.9927 - val_loss: 0.0352 - val_accuracy: 0.9880\n",
      "Epoch 10/20\n",
      "60000/60000 [==============================] - 17s 288us/sample - loss: 0.0212 - accuracy: 0.9932 - val_loss: 0.0379 - val_accuracy: 0.9882\n",
      "Epoch 11/20\n",
      "60000/60000 [==============================] - 18s 294us/sample - loss: 0.0193 - accuracy: 0.9939 - val_loss: 0.0395 - val_accuracy: 0.9866\n",
      "Epoch 12/20\n",
      "60000/60000 [==============================] - 16s 271us/sample - loss: 0.0169 - accuracy: 0.9948 - val_loss: 0.0404 - val_accuracy: 0.9867\n",
      "Epoch 13/20\n",
      "59900/60000 [============================>.] - ETA: 0s - loss: 0.0149 - accuracy: 0.9953\n",
      "Reached 99% accuracy. Finishing training\n",
      "60000/60000 [==============================] - 16s 271us/sample - loss: 0.0149 - accuracy: 0.9953 - val_loss: 0.0369 - val_accuracy: 0.9883\n"
     ]
    },
    {
     "data": {
      "text/plain": [
       "<tensorflow.python.keras.callbacks.History at 0x7f22eb3d6410>"
      ]
     },
     "execution_count": 35,
     "metadata": {},
     "output_type": "execute_result"
    }
   ],
   "source": [
    "model.fit(xtf_train, y_train,\n",
    "          epochs=20, batch_size=100,\n",
    "          callbacks=[myCallback()],\n",
    "          validation_data=(xtf_test, y_test)\n",
    ")"
   ]
  },
  {
   "cell_type": "code",
   "execution_count": 36,
   "metadata": {},
   "outputs": [],
   "source": [
    "with open('tf_cnn.json', 'w') as json_file:\n",
    "    json_file.write(model.to_json())\n",
    "model.save_weights('tf_cnn_wgh.h5')"
   ]
  },
  {
   "cell_type": "code",
   "execution_count": 37,
   "metadata": {},
   "outputs": [],
   "source": [
    "# model = tf.keras.models.model_from_json('tf_cnn.json')\n",
    "# model.load_weights('tf_cnn_wgh.h5')"
   ]
  },
  {
   "cell_type": "code",
   "execution_count": 38,
   "metadata": {},
   "outputs": [
    {
     "data": {
      "text/plain": [
       "[0.009626780199747494, 0.99723333]"
      ]
     },
     "execution_count": 38,
     "metadata": {},
     "output_type": "execute_result"
    }
   ],
   "source": [
    "model.evaluate(xtf_train, y_train, verbose=0)"
   ]
  },
  {
   "cell_type": "code",
   "execution_count": 39,
   "metadata": {},
   "outputs": [
    {
     "data": {
      "text/plain": [
       "[0.036906356185791085, 0.9883]"
      ]
     },
     "execution_count": 39,
     "metadata": {},
     "output_type": "execute_result"
    }
   ],
   "source": [
    "model.evaluate(xtf_test, y_test, verbose=0)"
   ]
  }
 ],
 "metadata": {
  "kernelspec": {
   "display_name": "Python 3",
   "language": "python",
   "name": "python3"
  },
  "language_info": {
   "codemirror_mode": {
    "name": "ipython",
    "version": 3
   },
   "file_extension": ".py",
   "mimetype": "text/x-python",
   "name": "python",
   "nbconvert_exporter": "python",
   "pygments_lexer": "ipython3",
   "version": "3.7.5"
  }
 },
 "nbformat": 4,
 "nbformat_minor": 2
}
